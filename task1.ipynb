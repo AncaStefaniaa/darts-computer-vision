{
 "cells": [
  {
   "cell_type": "markdown",
   "metadata": {},
   "source": [
    "IMPORTS"
   ]
  },
  {
   "cell_type": "code",
   "execution_count": 1,
   "metadata": {},
   "outputs": [],
   "source": [
    "import numpy as np\n",
    "import cv2\n",
    "import os"
   ]
  },
  {
   "cell_type": "markdown",
   "metadata": {},
   "source": [
    "SHOW IMAGE FUNCTION"
   ]
  },
  {
   "cell_type": "code",
   "execution_count": 2,
   "metadata": {},
   "outputs": [],
   "source": [
    "# Function from lab2\n",
    "def show_image(image, window_name='image', timeout=0):\n",
    "    cv2.imshow(window_name, cv2.resize(image, None, fx=0.6, fy=0.6))\n",
    "    cv2.waitKey(timeout)\n",
    "    cv2.destroyAllWindows()"
   ]
  },
  {
   "cell_type": "markdown",
   "metadata": {},
   "source": [
    "FUNCTION TO READ IMAGES FROM FILE"
   ]
  },
  {
   "cell_type": "code",
   "execution_count": 3,
   "metadata": {},
   "outputs": [],
   "source": [
    "# Read images from dataset\n",
    "def read_images():\n",
    "    img = []\n",
    "    folder_path = 'Task1/'\n",
    "    \n",
    "    for i in range(1, 26):\n",
    "        filename = '0' + str(i) if i < 10 else str(i)\n",
    "        img_path = os.path.join(folder_path, filename + '.jpg')\n",
    "        img.append(cv2.imread(img_path))\n",
    "    \n",
    "    return img"
   ]
  },
  {
   "cell_type": "markdown",
   "metadata": {},
   "source": [
    "FUNCTION TO FIND THE SCORE AREAS"
   ]
  },
  {
   "cell_type": "markdown",
   "metadata": {},
   "source": [
    "In order to find all circles of interest (the ones with points), I used findContours method from cv2, after that multiple contours were detected so I analysed the image and removed the ones with width and height smaller than 180/190, the one representing the frame of the whole image and also two extra which were found on the edge of the dartboard"
   ]
  },
  {
   "cell_type": "code",
   "execution_count": 4,
   "metadata": {},
   "outputs": [],
   "source": [
    "# This function will return all circles of interest\n",
    "def find_circles(image):\n",
    "\n",
    "    # Convert the image to grayscale\n",
    "    image_gray = cv2.cvtColor(image, cv2.COLOR_BGR2GRAY)\n",
    "\n",
    "    # Filter image and find contours.\n",
    "    ret, thresh = cv2.threshold(image_gray, 150, 255, cv2.THRESH_BINARY)\n",
    "    contours, hierarchy = cv2.findContours(image=thresh, mode=cv2.RETR_TREE, method=cv2.CHAIN_APPROX_NONE)\n",
    "                                      \n",
    "    # Make a copy because the original image will be changed\n",
    "    image_copy = image.copy()\n",
    "    \n",
    "    # In this variable we will try to store the 9 segments with points\n",
    "    best_contours = []\n",
    "    for c in contours:\n",
    "        x,y,w,h = cv2.boundingRect(c)\n",
    "        # Very small segments were detected so I removed those\n",
    "        if w > 180 and h > 190:\n",
    "            # I observed that the frame of the whole image is also included, so by this condition I removed it\n",
    "            if w < 2400 and h < 3200:\n",
    "                # print(w, h)\n",
    "                best_contours.append(c)\n",
    "  \n",
    "    # I observed that the first two contours are located outside the board so I decided to remove those.\n",
    "    del best_contours[:2]\n",
    "    # # Test to see if the regions were found\n",
    "    # for i in range(9):\n",
    "    #     cv2.drawContours(image=image_copy, contours=best_contours[i], contourIdx=-1, color=(0, 0, 70 + i*20), thickness=13, lineType=cv2.LINE_AA)\n",
    "    # show_image(image_copy, 'test', 0)\n",
    "    return best_contours\n"
   ]
  },
  {
   "cell_type": "code",
   "execution_count": 5,
   "metadata": {},
   "outputs": [],
   "source": [
    "# Apply a threshold so that we can detect the pixels of interest, we isolate the colored pixels\n",
    "# seeing that the image is predominantly black and white with darts colored.\n",
    "def detectDarts(image):\n",
    "    hsv_img = cv2.cvtColor(image, cv2.COLOR_BGR2HSV)\n",
    "    lower = np.array([65, 50, 65])\n",
    "    upper = np.array([125, 255, 255])\n",
    "    mask = cv2.inRange(hsv_img, lower, upper)\n",
    "\n",
    "    # Detecting and drawing contours\n",
    "    # First we find the contours in the filtered image\n",
    "    copy = mask.copy()\n",
    "    kernel = np.ones((50, 50), np.uint8)\n",
    "    img_dilation = cv2.dilate(mask, kernel, iterations=1)\n",
    "    edges = cv2.Canny(img_dilation, 50, 150)\n",
    "    contours, hierarchy = cv2.findContours(img_dilation,\n",
    "                                           cv2.RETR_EXTERNAL, cv2.CHAIN_APPROX_NONE)\n",
    "    cv2.drawContours(image=img_dilation, contours=contours, contourIdx=-1, color=(0, 255, 0), thickness=2, lineType=cv2.LINE_AA)\n",
    "\n",
    "    # We search for the figures with height and width bigger than a value chosen through testing\n",
    "    darts_num = 0\n",
    "    darts = []\n",
    "    for c in contours:\n",
    "        x,y,w,h = cv2.boundingRect(c)\n",
    "        if w > 90 and h > 90:\n",
    "            darts.append(c)\n",
    "            darts_num += 1\n",
    "\n",
    "    return darts, darts_num"
   ]
  },
  {
   "cell_type": "markdown",
   "metadata": {},
   "source": [
    "FUNCTION TO DETECT THE POINT REPRESENTING THE TIP OF THE DART"
   ]
  },
  {
   "cell_type": "markdown",
   "metadata": {},
   "source": [
    "In order to find this point I computed first the centre of the poligon representing the flag, and after analysing all the pictures in the train dataset I observed that most of the darts tips are located around 450 units to the left and 10 units to the bottom relative to the centre of the flag, so I used this heuristic method in order to determine the tip."
   ]
  },
  {
   "cell_type": "code",
   "execution_count": 6,
   "metadata": {},
   "outputs": [],
   "source": [
    "def detectTipPosition(darts, img):\n",
    "    # Inspiration for the blob center computation:\n",
    "    # https://learnopencv.com/find-center-of-blob-centroid-using-opencv-cpp-python/\n",
    "    tips_list = []\n",
    "    for dart in darts:\n",
    "        dart_center = cv2.moments(dart)\n",
    "        # Computing the centre for each dart using moments method from cv2.\n",
    "        cX = int(dart_center[\"m10\"] / dart_center[\"m00\"])\n",
    "        cY = int(dart_center[\"m01\"] / dart_center[\"m00\"])\n",
    "        \n",
    "        # Estimate the tip.\n",
    "        cA = int(cX - 450)\n",
    "        cB = int(cY + 10)\n",
    "        tips_list.append((cA, cB))\n",
    "\n",
    "        # # Code for drawing a marker on tip (testing purposes)\n",
    "        # color = (0, 255, 0)\n",
    "        # markerType = cv2.MARKER_CROSS\n",
    "        # markerSize = 50\n",
    "        # thickness = 5\n",
    "        # cv2.drawMarker(img, (cA, cB), color, markerType, markerSize, thickness)\n",
    "    return tips_list\n",
    "    "
   ]
  },
  {
   "cell_type": "markdown",
   "metadata": {},
   "source": [
    "FUNCTION TO ESTIMATE THE SCORE FOR A TIP OF THE DART"
   ]
  },
  {
   "cell_type": "markdown",
   "metadata": {},
   "source": [
    "Start with the smaller circle and check if it contains the point representing the tip of the dart if not, it will go to the next smaller circle and check again"
   ]
  },
  {
   "cell_type": "code",
   "execution_count": 7,
   "metadata": {},
   "outputs": [],
   "source": [
    "# We expect the countours to be sorted in ascending order by area.\n",
    "# Start with the smaller circle and check if it contains the tip of the dart\n",
    "# if not, it will go to the next bigger circle.\n",
    "def estimateScore(countours, tips_list):\n",
    "    scores_list = []\n",
    "    \n",
    "    for arrow in tips_list:\n",
    "        for i in range(9):\n",
    "            if cv2.pointPolygonTest(countours[i], arrow, False) >= 0:\n",
    "                scores_list.append(9 - i)\n",
    "                break\n",
    "    return scores_list"
   ]
  },
  {
   "cell_type": "markdown",
   "metadata": {},
   "source": [
    "FUNCTION TO WRITE THE PREDICTION IN FILE"
   ]
  },
  {
   "cell_type": "code",
   "execution_count": 8,
   "metadata": {},
   "outputs": [],
   "source": [
    "def writeInFile(darts_num, scores_list, i):\n",
    "    file_identifier = i + 1\n",
    "    filename = ('0' + str(file_identifier) if file_identifier < 10 else str(file_identifier))\n",
    "    path = 'Ilicea_Anca_512/Task1/' + filename + '_predicted.txt'\n",
    "\n",
    "    print(path)\n",
    "    f = open(path, 'w')\n",
    "    f.write(str(darts_num) + '\\n')\n",
    "\n",
    "    for score in scores_list:\n",
    "        f.write(str(score) + '\\n')"
   ]
  },
  {
   "cell_type": "markdown",
   "metadata": {},
   "source": [
    "MAIN FUNCTION, IT WILL RUN ALL THE FUNCTIONS AND GENERATE THE SOLUTION"
   ]
  },
  {
   "cell_type": "code",
   "execution_count": 9,
   "metadata": {},
   "outputs": [
    {
     "name": "stdout",
     "output_type": "stream",
     "text": [
      "Ilicea_Anca_512/Task1/01_predicted.txt\n",
      "Ilicea_Anca_512/Task1/02_predicted.txt\n",
      "Ilicea_Anca_512/Task1/03_predicted.txt\n",
      "Ilicea_Anca_512/Task1/04_predicted.txt\n",
      "Ilicea_Anca_512/Task1/05_predicted.txt\n",
      "Ilicea_Anca_512/Task1/06_predicted.txt\n",
      "Ilicea_Anca_512/Task1/07_predicted.txt\n",
      "Ilicea_Anca_512/Task1/08_predicted.txt\n",
      "Ilicea_Anca_512/Task1/09_predicted.txt\n",
      "Ilicea_Anca_512/Task1/10_predicted.txt\n",
      "Ilicea_Anca_512/Task1/11_predicted.txt\n",
      "Ilicea_Anca_512/Task1/12_predicted.txt\n",
      "Ilicea_Anca_512/Task1/13_predicted.txt\n",
      "Ilicea_Anca_512/Task1/14_predicted.txt\n",
      "Ilicea_Anca_512/Task1/15_predicted.txt\n",
      "Ilicea_Anca_512/Task1/16_predicted.txt\n",
      "Ilicea_Anca_512/Task1/17_predicted.txt\n",
      "Ilicea_Anca_512/Task1/18_predicted.txt\n",
      "Ilicea_Anca_512/Task1/19_predicted.txt\n",
      "Ilicea_Anca_512/Task1/20_predicted.txt\n",
      "Ilicea_Anca_512/Task1/21_predicted.txt\n",
      "Ilicea_Anca_512/Task1/22_predicted.txt\n",
      "Ilicea_Anca_512/Task1/23_predicted.txt\n",
      "Ilicea_Anca_512/Task1/24_predicted.txt\n",
      "Ilicea_Anca_512/Task1/25_predicted.txt\n"
     ]
    }
   ],
   "source": [
    "def main():\n",
    "    # Get the template so we can calculate the elipsis\n",
    "    template = cv2.imread('auxiliary_images/template_task1.jpg')\n",
    "    # Get all the train images\n",
    "    img_array = read_images()\n",
    "\n",
    "    # Iterate through all images\n",
    "    for i, img in enumerate(img_array):\n",
    "        # Detect the number of darts\n",
    "        darts, darts_num = detectDarts(img)\n",
    "        # Get the tip point for each dart\n",
    "        tips_list = detectTipPosition(darts, img)\n",
    "\n",
    "        # Get the areas of interest\n",
    "        best_contours = find_circles(template)\n",
    "        # I noticed that the find_circles function I made always returned\n",
    "        # the contours in order from big to small, so I decided to use that\n",
    "        # and reverse it for our next step, score estimation\n",
    "        best_contours.reverse()\n",
    "        scores_list = estimateScore(best_contours, tips_list)\n",
    "        \n",
    "        writeInFile(darts_num, scores_list, i)\n",
    "    \n",
    "main()"
   ]
  }
 ],
 "metadata": {
  "interpreter": {
   "hash": "aee8b7b246df8f9039afb4144a1f6fd8d2ca17a180786b69acc140d282b71a49"
  },
  "kernelspec": {
   "display_name": "Python 3.10.4 64-bit",
   "language": "python",
   "name": "python3"
  },
  "language_info": {
   "codemirror_mode": {
    "name": "ipython",
    "version": 3
   },
   "file_extension": ".py",
   "mimetype": "text/x-python",
   "name": "python",
   "nbconvert_exporter": "python",
   "pygments_lexer": "ipython3",
   "version": "3.10.4"
  },
  "orig_nbformat": 4
 },
 "nbformat": 4,
 "nbformat_minor": 2
}
