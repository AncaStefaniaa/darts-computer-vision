{
 "cells": [
  {
   "cell_type": "markdown",
   "metadata": {},
   "source": [
    "IMPORTS"
   ]
  },
  {
   "cell_type": "code",
   "execution_count": 1,
   "metadata": {},
   "outputs": [],
   "source": [
    "import numpy as np\n",
    "import cv2\n",
    "import os"
   ]
  },
  {
   "cell_type": "markdown",
   "metadata": {},
   "source": [
    "FUNCTION TO DISPLAY AN IMAGE"
   ]
  },
  {
   "cell_type": "code",
   "execution_count": 2,
   "metadata": {},
   "outputs": [],
   "source": [
    "# Function from lab2\n",
    "def show_image(image, window_name='image', timeout=0):\n",
    "    cv2.imshow(window_name, cv2.resize(image, None, fx=0.6, fy=0.6))\n",
    "    cv2.waitKey(timeout)\n",
    "    cv2.destroyAllWindows()"
   ]
  },
  {
   "cell_type": "markdown",
   "metadata": {},
   "source": [
    "FUNCTION TO READ THE IMAGES FROM FOLDER"
   ]
  },
  {
   "cell_type": "code",
   "execution_count": 3,
   "metadata": {},
   "outputs": [],
   "source": [
    "#Read images from dataset\n",
    "def read_images():\n",
    "    img = []\n",
    "    folder_path = 'Task2/'\n",
    "    \n",
    "    for i in range(1, 26):\n",
    "        filename = '0' + str(i) if i < 10 else str(i)\n",
    "        img_path = os.path.join(folder_path, filename + '.jpg')\n",
    "        img.append(cv2.imread(img_path))\n",
    "    \n",
    "    return img"
   ]
  },
  {
   "cell_type": "markdown",
   "metadata": {},
   "source": [
    "FUNCTION TO DETECT THE NUMBER OF DARTS ON THE DARTBOARD"
   ]
  },
  {
   "cell_type": "markdown",
   "metadata": {},
   "source": [
    "A threshold was applied so that we can detect the pixels of interest, we isolate the colored pixels seeing that the image is predominantly black and white with darts colored.\n",
    "\n",
    "In order to find the number of darts on the dartboard I firstly computed the absolute difference between the template photo and the photo with darts on it, so I could remain only with the darts. After that I applied a threshold so that I could remain only with the colored parts, after that I converted the image to hsv format so we can precess it without being influenced by changes in lighting conditions. The next step was to apply a red mask and a green mask to detect the flags, I've applied img_erosion method from cv2 to get rid of extra lines from the dartboard and after that dilate method to recognise correctly the number of flags, I've selected the parameters for those by testing how it works on all images.\n",
    "\n",
    "At the end, I've selected only poligons with width and height bigger than 90 (arbitrary)"
   ]
  },
  {
   "cell_type": "code",
   "execution_count": 4,
   "metadata": {},
   "outputs": [],
   "source": [
    "def detectDarts(image,template):\n",
    "    # Compute the absolute difference between the template and our image\n",
    "    diff = 255 - cv2.absdiff(image, template)\n",
    "\n",
    "    tmp = cv2.cvtColor(diff, cv2.COLOR_BGR2GRAY)\n",
    "\n",
    "    # This was used because I saw an improvement in the general detection\n",
    "    # If the pixel value is smaller than the threshold, it is set to 0, otherwise it is set to a maximum value.\n",
    "    _,alpha = cv2.threshold(tmp, 0, 255, cv2.THRESH_BINARY)\n",
    "    \n",
    "    # Split channels our image \n",
    "    b, g, r = cv2.split(diff)\n",
    "    rgba = [b, g, r, alpha]\n",
    "    dst = cv2.merge(rgba, 4)\n",
    "    \n",
    "    # Transform the picture to hsv\n",
    "    img_hsv=cv2.cvtColor(dst, cv2.COLOR_BGR2HSV)\n",
    "\n",
    "    # Apply a red mask for the first red part in hsv map\n",
    "    lower_red = np.array([0,50,50])\n",
    "    upper_red = np.array([10,255,255])\n",
    "    mask0 = cv2.inRange(img_hsv, lower_red, upper_red)\n",
    "\n",
    "    # Mask for the other red part on hsv map (170-180)\n",
    "    lower_red = np.array([170,50,50])\n",
    "    upper_red = np.array([180,255,255])\n",
    "    mask1 = cv2.inRange(img_hsv, lower_red, upper_red)\n",
    "\n",
    "    # Apply green mask\n",
    "    lower_green = np.array([35, 50, 50])  \n",
    "    upper_green = np.array([85, 255, 255])\n",
    "    green_mask = cv2.inRange(img_hsv, lower_green, upper_green)\n",
    "\n",
    "    # Join all the masks\n",
    "    mask = mask0 + mask1 + green_mask\n",
    "    \n",
    "    # Define kernels with values chosen manually by testing\n",
    "    kernel = np.ones((100, 100), np.uint8)\n",
    "    kernel2 = np.ones((10, 10), np.uint8)\n",
    "\n",
    "    # Apply erosion so we can get rid of the fine lines\n",
    "    img_erosion = cv2.erode(mask, kernel2, iterations=1)\n",
    "\n",
    "    # Dilate the points representing darts so that the detection works better\n",
    "    img_dilation = cv2.dilate(img_erosion, kernel, iterations=1)\n",
    "\n",
    "    # Find contours and count them\n",
    "    edges = cv2.Canny(img_dilation, 50, 150)\n",
    "    contours, hierarchy = cv2.findContours(img_dilation,\n",
    "                                           cv2.RETR_EXTERNAL, cv2.CHAIN_APPROX_NONE)\n",
    "    cv2.drawContours(image=img_dilation, contours=contours, contourIdx=-1, color=(0, 255, 0), thickness=2, lineType=cv2.LINE_AA)\n",
    "\n",
    "    # Remove small contours\n",
    "    darts_num = 0\n",
    "    darts = []\n",
    "    for c in contours:\n",
    "        x,y,w,h = cv2.boundingRect(c)\n",
    "        if w > 90 and h > 90:\n",
    "            darts.append(c)\n",
    "            darts_num += 1\n",
    "            \n",
    "    return darts, darts_num"
   ]
  },
  {
   "cell_type": "markdown",
   "metadata": {},
   "source": [
    "I tried two different approaches in order to detect the ares of interest in the pictures but none of them seemed to give satisfactory results. Lastly I selected the areas manually.\n",
    "\n",
    "So the following two methods are not used"
   ]
  },
  {
   "cell_type": "code",
   "execution_count": 5,
   "metadata": {},
   "outputs": [],
   "source": [
    "# ! Not used in solution\n",
    "def find_circles(image):\n",
    "\n",
    "    hsv = cv2.cvtColor(image, cv2.COLOR_BGR2HSV)\n",
    "    \n",
    "    lower_green = np.array([35, 50, 50]) \n",
    "    upper_green = np.array([85, 255, 255])\n",
    "    green_mask = cv2.inRange(hsv, lower_green, upper_green)\n",
    "\n",
    "    copy_image = image\n",
    "    copy_image[green_mask>0]=(255,255,255)\n",
    "\n",
    "    hsv = cv2.cvtColor(copy_image, cv2.COLOR_BGR2HSV)\n",
    "    \n",
    "    # Apply a red mask for the first red part in hsv map\n",
    "    lower_red = np.array([0,50,50])\n",
    "    upper_red = np.array([10,255,255])\n",
    "    mask0 = cv2.inRange(hsv, lower_red, upper_red)\n",
    "    \n",
    "    # Mask for the other red part on hsv map (170-180)\n",
    "    lower_red = np.array([170,50,50])\n",
    "    upper_red = np.array([180,255,255])\n",
    "    mask1 = cv2.inRange(hsv, lower_red, upper_red)\n",
    "\n",
    "    # Join my masks\n",
    "    mask = mask0 + mask1\n",
    "\n",
    "    inversed_mask = cv2.bitwise_not(mask)\n",
    "    Mask = cv2.bitwise_or(copy_image, copy_image, mask = inversed_mask)\n",
    "\n",
    "    # Filter image\n",
    "    thresh = 128\n",
    "    img_binary = cv2.threshold(Mask, thresh, 255, cv2.THRESH_BINARY)[1]\n",
    "    \n",
    "    # Apply erosion so we can get rid of the fine lines\n",
    "    kernel = np.ones((5, 5), np.uint8)\n",
    "    img_erosion = cv2.erode(img_binary, kernel, iterations=1)\n",
    "  \n",
    "    contours, hierarchy = cv2.findContours(image=img_binary, mode=cv2.RETR_TREE, method=cv2.CHAIN_APPROX_NONE)\n",
    "    cv2.drawContours(image=img_binary, contours=contours, contourIdx=-1, color=(0, 0, 255), thickness=13, lineType=cv2.LINE_AA)\n",
    "    \n",
    "    return contours"
   ]
  },
  {
   "cell_type": "markdown",
   "metadata": {},
   "source": [
    "Callback function to capture mouse events was used in order to generate the points for the 20 polygons representing regions on the dartboard"
   ]
  },
  {
   "cell_type": "code",
   "execution_count": 6,
   "metadata": {},
   "outputs": [],
   "source": [
    "\n",
    "def get_coordinates(event, x, y, flags, param):\n",
    "    if event == cv2.EVENT_LBUTTONDOWN:  # Left mouse button click event\n",
    "        print(f\"Selected point coordinates: ({x}, {y})\")\n",
    "\n",
    "def get_points():\n",
    "    image = cv2.imread('auxiliary_images/template_task2.jpg')\n",
    "    cv2.imshow('Image', image)\n",
    "    cv2.setMouseCallback('Image', get_coordinates)\n",
    "    cv2.waitKey(0)\n",
    "    cv2.destroyAllWindows()"
   ]
  },
  {
   "cell_type": "markdown",
   "metadata": {},
   "source": [
    "The 20 polygons representing regions on the dartboard manually defined"
   ]
  },
  {
   "cell_type": "code",
   "execution_count": 7,
   "metadata": {},
   "outputs": [],
   "source": [
    "p12 = np.array([[778, 1250], [965, 1087],\n",
    "                [1284, 1790]\n",
    "                ],\n",
    "               np.int32)\n",
    "\n",
    "p9 = np.array([[628, 1495], [772, 1259],\n",
    "                [1272, 1804]\n",
    "                ],\n",
    "               np.int32)\n",
    "\n",
    "p14 = np.array([[568, 1790], [636, 1508],\n",
    "                [1265, 1828]\n",
    "                ],\n",
    "               np.int32)\n",
    "\n",
    "p11 = np.array([[586, 2101], [568, 1800],\n",
    "                [1265, 1852]\n",
    "                ],\n",
    "               np.int32)\n",
    "\n",
    "p8 = np.array([[685, 2372], [588, 2106],\n",
    "                [1262, 1892]\n",
    "                ],\n",
    "               np.int32)\n",
    "\n",
    "p16 = np.array([[851, 2584], [690, 2377],\n",
    "                [690, 2377], [1284, 1915]\n",
    "                ],\n",
    "               np.int32)\n",
    "\n",
    "p7 = np.array([[1055, 2687], [854, 2591],\n",
    "                [854, 2591]\n",
    "                ],\n",
    "               np.int32)\n",
    "\n",
    "p19 = np.array([[1272, 2715], [1061, 2690],\n",
    "                [1298, 1925], [1322, 1931]\n",
    "                ],\n",
    "               np.int32)\n",
    "\n",
    "p3 = np.array([[1474, 2653], [1283, 2718],\n",
    "                [1330, 1944]\n",
    "                ],\n",
    "               np.int32)\n",
    "\n",
    "p17 = np.array([[1642, 2515], [1477, 2654],\n",
    "                [1343, 1940], [1357, 1934]\n",
    "                ],\n",
    "               np.int32)\n",
    "\n",
    "p2 = np.array([[1776, 2336], [1655, 2518],\n",
    "                [1375, 1919]\n",
    "                ],\n",
    "               np.int32)\n",
    "\n",
    "p15 = np.array([[1863, 2139], [1785, 2325],\n",
    "                [1379, 1912], [1392, 1887]\n",
    "                ],\n",
    "               np.int32)\n",
    "\n",
    "p10 = np.array([[1901, 1900], [1865, 2128],\n",
    "                [1398, 1875]\n",
    "                ],\n",
    "               np.int32)\n",
    "\n",
    "p6 = np.array([[1888, 1657], [1898, 1887],\n",
    "                [1396, 1854], [1396, 1832]\n",
    "                ],\n",
    "               np.int32)\n",
    "\n",
    "p5 = np.array([[966, 1092], [1176, 1013],\n",
    "                [1317, 1765], [1297, 1775]\n",
    "                ],\n",
    "               np.int32)\n",
    "\n",
    "p20 = np.array([[1174, 1007], [1380, 1019],\n",
    "                [1318, 1769]\n",
    "                ],\n",
    "               np.int32)\n",
    "\n",
    "p1 = np.array([[1388, 1022], [1567, 1112],\n",
    "                [1359, 1768], [1335, 1768]\n",
    "                ],\n",
    "               np.int32)\n",
    "\n",
    "p18 = np.array([[1572, 1113], [1715, 1255],\n",
    "                [1362, 1777]\n",
    "                ],\n",
    "               np.int32)\n",
    "\n",
    "p4 = np.array([[1722, 1260], [1831, 1442],\n",
    "                [1388, 1801], [1365, 1780]\n",
    "                ],\n",
    "               np.int32)\n",
    "\n",
    "p13 = np.array([[1833, 1447], [1885, 1663],\n",
    "                [1394, 1811]\n",
    "                ],\n",
    "               np.int32)\n"
   ]
  },
  {
   "cell_type": "markdown",
   "metadata": {},
   "source": [
    "Arrays with the 20 polygons + its etiquettes were defined manually"
   ]
  },
  {
   "cell_type": "code",
   "execution_count": 8,
   "metadata": {},
   "outputs": [],
   "source": [
    "polygons = [p12, p9, p14, p11, p8, p16, p7, p19, p3, p17, p2, p15, p10, p6, p5, p20, p1, p18, p4, p13]\n",
    "etiquette = [12, 9, 14, 11, 8, 16, 7, 19, 3, 17, 2, 15, 10, 6, 5, 20, 1, 18, 4, 13]"
   ]
  },
  {
   "cell_type": "markdown",
   "metadata": {},
   "source": [
    "FUNCTION TO DETECT THE POINT REPRESENTING THE TIP OF THE DART"
   ]
  },
  {
   "cell_type": "markdown",
   "metadata": {},
   "source": [
    "Similar to approach in Task 1\n",
    "\n",
    "In order to find this point I computed first the centre of the poligon representing the flag, and after analysing all the pictures in the train dataset I observed that most of the darts tips are located around 450 units to the left and 10 units to the bottom relative to the centre of the flag, so I used this euristic method in order to determine the tip."
   ]
  },
  {
   "cell_type": "code",
   "execution_count": 9,
   "metadata": {},
   "outputs": [],
   "source": [
    "def detectTipPosition(darts, img):\n",
    "    # Inspiration for the blob center computation:\n",
    "    # https://learnopencv.com/find-center-of-blob-centroid-using-opencv-cpp-python/\n",
    "    tips_list = []\n",
    "    for dart in darts:\n",
    "\n",
    "        dart_center = cv2.moments(dart)\n",
    "        # Computing the centre for each dart using moments method from cv2\n",
    "        cX = int(dart_center[\"m10\"] / dart_center[\"m00\"])\n",
    "        cY = int(dart_center[\"m01\"] / dart_center[\"m00\"])\n",
    "\n",
    "        # Estimate the tip\n",
    "        cA = int(cX - 450)\n",
    "        cB = int(cY + 10)\n",
    "        tips_list.append((cA, cB))\n",
    "        \n",
    "        # # Code for drawing a marker on tip (testing purposes)\n",
    "        # color = (0, 255, 0)\n",
    "        # markerType = cv2.MARKER_CROSS\n",
    "        # markerSize = 50\n",
    "        # thickness = 5\n",
    "        # cv2.drawMarker(img, (cA, cB), color, markerType, markerSize, thickness)\n",
    "    # show_image(img, \"test\")\n",
    "    return tips_list"
   ]
  },
  {
   "cell_type": "markdown",
   "metadata": {},
   "source": [
    "FUNCTION TO WRITE THE PREDICTION IN FILE"
   ]
  },
  {
   "cell_type": "code",
   "execution_count": 10,
   "metadata": {},
   "outputs": [],
   "source": [
    "def writeInFile(darts_num, scores_list, i):\n",
    "\n",
    "    file_identifier = i + 1\n",
    "    filename = ('0' + str(file_identifier) if file_identifier < 10 else str(file_identifier))\n",
    "    path = 'Ilicea_Anca_512/Task2/' + filename + '_predicted.txt'\n",
    "\n",
    "    print(path)\n",
    "    f = open(path, 'w')\n",
    "    f.write(str(darts_num) + '\\n')\n",
    "\n",
    "    for score in scores_list:\n",
    "        f.write(str(score) + '\\n')"
   ]
  },
  {
   "cell_type": "markdown",
   "metadata": {},
   "source": [
    "THIS FUNCTION WILL ESTIMATE THE SUBREGION IN WHICH A TIP OF A DART CAN BE FOUND"
   ]
  },
  {
   "cell_type": "markdown",
   "metadata": {},
   "source": [
    "For each dart tip coordate we will iterate over through the poligons list and check if it is contained in it, if not we will set a fixed value 's20' ( none of the poligons overlap with each other). There were considered only subregions."
   ]
  },
  {
   "cell_type": "code",
   "execution_count": 11,
   "metadata": {},
   "outputs": [],
   "source": [
    "def estimateScore(countours, tips_list):\n",
    "    scores_list = []\n",
    "\n",
    "    for dart in tips_list:\n",
    "        for j, poly in enumerate(countours):\n",
    "            found = 0 \n",
    "            if cv2.pointPolygonTest(poly, dart, False) >= 0:\n",
    "                found = 1\n",
    "                scores_list.append('s' + str(etiquette[j]))\n",
    "                break\n",
    "        if(found == 0):\n",
    "            scores_list.append('s20')\n",
    "    return scores_list"
   ]
  },
  {
   "cell_type": "markdown",
   "metadata": {},
   "source": [
    "MAIN FUNCTION, IT WILL RUN ALL THE FUNCTIONS AND GENERATE THE SOLUTION"
   ]
  },
  {
   "cell_type": "code",
   "execution_count": 12,
   "metadata": {},
   "outputs": [
    {
     "name": "stdout",
     "output_type": "stream",
     "text": [
      "Ilicea_Anca_512/Task2/01_predicted.txt\n",
      "Ilicea_Anca_512/Task2/02_predicted.txt\n",
      "Ilicea_Anca_512/Task2/03_predicted.txt\n",
      "Ilicea_Anca_512/Task2/04_predicted.txt\n",
      "Ilicea_Anca_512/Task2/05_predicted.txt\n",
      "Ilicea_Anca_512/Task2/06_predicted.txt\n",
      "Ilicea_Anca_512/Task2/07_predicted.txt\n",
      "Ilicea_Anca_512/Task2/08_predicted.txt\n",
      "Ilicea_Anca_512/Task2/09_predicted.txt\n",
      "Ilicea_Anca_512/Task2/10_predicted.txt\n",
      "Ilicea_Anca_512/Task2/11_predicted.txt\n",
      "Ilicea_Anca_512/Task2/12_predicted.txt\n",
      "Ilicea_Anca_512/Task2/13_predicted.txt\n",
      "Ilicea_Anca_512/Task2/14_predicted.txt\n",
      "Ilicea_Anca_512/Task2/15_predicted.txt\n",
      "Ilicea_Anca_512/Task2/16_predicted.txt\n",
      "Ilicea_Anca_512/Task2/17_predicted.txt\n",
      "Ilicea_Anca_512/Task2/18_predicted.txt\n",
      "Ilicea_Anca_512/Task2/19_predicted.txt\n",
      "Ilicea_Anca_512/Task2/20_predicted.txt\n",
      "Ilicea_Anca_512/Task2/21_predicted.txt\n",
      "Ilicea_Anca_512/Task2/22_predicted.txt\n",
      "Ilicea_Anca_512/Task2/23_predicted.txt\n",
      "Ilicea_Anca_512/Task2/24_predicted.txt\n",
      "Ilicea_Anca_512/Task2/25_predicted.txt\n"
     ]
    }
   ],
   "source": [
    "def main():\n",
    "    # Get the template so we can calculate the elipsis\n",
    "    template = cv2.imread('auxiliary_images/template_task2.jpg')\n",
    "    # Get all the train images\n",
    "    img_array = read_images()\n",
    "    # Iterate through all images\n",
    "    for i, img in enumerate(img_array):\n",
    "        # Detect the number of darts\n",
    "        darts, darts_num = detectDarts(img_array[i], template)\n",
    "        # Get the tip point for each dart\n",
    "        tips_list = detectTipPosition(darts, img_array[i])\n",
    "        # Estimate the regions in which the dart tips are located\n",
    "        scores_list = estimateScore(polygons, tips_list)\n",
    "        # Write predictions in file \n",
    "        writeInFile(darts_num, scores_list, i)\n",
    "main()"
   ]
  }
 ],
 "metadata": {
  "interpreter": {
   "hash": "aee8b7b246df8f9039afb4144a1f6fd8d2ca17a180786b69acc140d282b71a49"
  },
  "kernelspec": {
   "display_name": "Python 3.10.4 64-bit",
   "language": "python",
   "name": "python3"
  },
  "language_info": {
   "codemirror_mode": {
    "name": "ipython",
    "version": 3
   },
   "file_extension": ".py",
   "mimetype": "text/x-python",
   "name": "python",
   "nbconvert_exporter": "python",
   "pygments_lexer": "ipython3",
   "version": "3.10.4"
  },
  "orig_nbformat": 4
 },
 "nbformat": 4,
 "nbformat_minor": 2
}
